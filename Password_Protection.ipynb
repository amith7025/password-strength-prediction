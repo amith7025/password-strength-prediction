{
 "cells": [
  {
   "cell_type": "code",
   "execution_count": 27,
   "id": "8b2140fc-437c-402d-8903-d5d9c29418e0",
   "metadata": {},
   "outputs": [],
   "source": [
    "import pandas as pd\n",
    "import matplotlib.pyplot as plt\n",
    "import numpy as np\n",
    "from imblearn.under_sampling import RandomUnderSampler\n",
    "from sklearn.model_selection import train_test_split\n",
    "from sklearn.tree import DecisionTreeClassifier\n",
    "from sklearn.ensemble import RandomForestClassifier\n",
    "from sklearn.neighbors import KNeighborsClassifier\n",
    "from sklearn.metrics import classification_report\n",
    "from sklearn.naive_bayes import MultinomialNB\n",
    "from sklearn.preprocessing import MinMaxScaler\n",
    "import random\n",
    "from collections import Counter"
   ]
  },
  {
   "cell_type": "code",
   "execution_count": 28,
   "id": "4dd6bffc-88db-481b-b9b2-015022ffee6a",
   "metadata": {},
   "outputs": [
    {
     "data": {
      "text/html": [
       "<div>\n",
       "<style scoped>\n",
       "    .dataframe tbody tr th:only-of-type {\n",
       "        vertical-align: middle;\n",
       "    }\n",
       "\n",
       "    .dataframe tbody tr th {\n",
       "        vertical-align: top;\n",
       "    }\n",
       "\n",
       "    .dataframe thead th {\n",
       "        text-align: right;\n",
       "    }\n",
       "</style>\n",
       "<table border=\"1\" class=\"dataframe\">\n",
       "  <thead>\n",
       "    <tr style=\"text-align: right;\">\n",
       "      <th></th>\n",
       "      <th>password</th>\n",
       "      <th>strength</th>\n",
       "    </tr>\n",
       "  </thead>\n",
       "  <tbody>\n",
       "    <tr>\n",
       "      <th>0</th>\n",
       "      <td>kzde5577</td>\n",
       "      <td>1</td>\n",
       "    </tr>\n",
       "    <tr>\n",
       "      <th>1</th>\n",
       "      <td>kino3434</td>\n",
       "      <td>1</td>\n",
       "    </tr>\n",
       "    <tr>\n",
       "      <th>2</th>\n",
       "      <td>visi7k1yr</td>\n",
       "      <td>1</td>\n",
       "    </tr>\n",
       "    <tr>\n",
       "      <th>3</th>\n",
       "      <td>megzy123</td>\n",
       "      <td>1</td>\n",
       "    </tr>\n",
       "    <tr>\n",
       "      <th>4</th>\n",
       "      <td>lamborghin1</td>\n",
       "      <td>1</td>\n",
       "    </tr>\n",
       "  </tbody>\n",
       "</table>\n",
       "</div>"
      ],
      "text/plain": [
       "      password  strength\n",
       "0     kzde5577         1\n",
       "1     kino3434         1\n",
       "2    visi7k1yr         1\n",
       "3     megzy123         1\n",
       "4  lamborghin1         1"
      ]
     },
     "execution_count": 28,
     "metadata": {},
     "output_type": "execute_result"
    }
   ],
   "source": [
    "df = pd.read_csv('data.csv', on_bad_lines='skip')\n",
    "df.head()"
   ]
  },
  {
   "cell_type": "code",
   "execution_count": 29,
   "id": "8964e0dd-50d9-4bc6-aca0-d2c58e8806a5",
   "metadata": {},
   "outputs": [
    {
     "name": "stdout",
     "output_type": "stream",
     "text": [
      "Length of the Dataset: 669640\n"
     ]
    }
   ],
   "source": [
    "print(f'Length of the Dataset: {len(df)}')"
   ]
  },
  {
   "cell_type": "code",
   "execution_count": 30,
   "id": "c3eec955-64a2-4bc6-887c-a02e413ff3c3",
   "metadata": {},
   "outputs": [],
   "source": [
    "df = df.dropna()"
   ]
  },
  {
   "cell_type": "code",
   "execution_count": 31,
   "id": "553dac9b-cafc-40fc-be0c-86f2d4befc29",
   "metadata": {},
   "outputs": [
    {
     "name": "stdout",
     "output_type": "stream",
     "text": [
      "Length of the Dataset: 669639\n"
     ]
    }
   ],
   "source": [
    "print(f'Length of the Dataset: {len(df)}')"
   ]
  },
  {
   "cell_type": "code",
   "execution_count": 32,
   "id": "7d6b99ee-b56d-492f-9c3e-d1a365050f03",
   "metadata": {},
   "outputs": [
    {
     "data": {
      "text/html": [
       "<div>\n",
       "<style scoped>\n",
       "    .dataframe tbody tr th:only-of-type {\n",
       "        vertical-align: middle;\n",
       "    }\n",
       "\n",
       "    .dataframe tbody tr th {\n",
       "        vertical-align: top;\n",
       "    }\n",
       "\n",
       "    .dataframe thead th {\n",
       "        text-align: right;\n",
       "    }\n",
       "</style>\n",
       "<table border=\"1\" class=\"dataframe\">\n",
       "  <thead>\n",
       "    <tr style=\"text-align: right;\">\n",
       "      <th></th>\n",
       "      <th>strength</th>\n",
       "    </tr>\n",
       "  </thead>\n",
       "  <tbody>\n",
       "    <tr>\n",
       "      <th>count</th>\n",
       "      <td>669639.000000</td>\n",
       "    </tr>\n",
       "    <tr>\n",
       "      <th>mean</th>\n",
       "      <td>0.990198</td>\n",
       "    </tr>\n",
       "    <tr>\n",
       "      <th>std</th>\n",
       "      <td>0.507947</td>\n",
       "    </tr>\n",
       "    <tr>\n",
       "      <th>min</th>\n",
       "      <td>0.000000</td>\n",
       "    </tr>\n",
       "    <tr>\n",
       "      <th>25%</th>\n",
       "      <td>1.000000</td>\n",
       "    </tr>\n",
       "    <tr>\n",
       "      <th>50%</th>\n",
       "      <td>1.000000</td>\n",
       "    </tr>\n",
       "    <tr>\n",
       "      <th>75%</th>\n",
       "      <td>1.000000</td>\n",
       "    </tr>\n",
       "    <tr>\n",
       "      <th>max</th>\n",
       "      <td>2.000000</td>\n",
       "    </tr>\n",
       "  </tbody>\n",
       "</table>\n",
       "</div>"
      ],
      "text/plain": [
       "            strength\n",
       "count  669639.000000\n",
       "mean        0.990198\n",
       "std         0.507947\n",
       "min         0.000000\n",
       "25%         1.000000\n",
       "50%         1.000000\n",
       "75%         1.000000\n",
       "max         2.000000"
      ]
     },
     "execution_count": 32,
     "metadata": {},
     "output_type": "execute_result"
    }
   ],
   "source": [
    "df.describe()"
   ]
  },
  {
   "cell_type": "code",
   "execution_count": 33,
   "id": "17d8f10d-262b-4262-be63-2be5bc267970",
   "metadata": {},
   "outputs": [
    {
     "data": {
      "text/plain": [
       "strength\n",
       "1    496801\n",
       "0     89701\n",
       "2     83137\n",
       "Name: count, dtype: int64"
      ]
     },
     "execution_count": 33,
     "metadata": {},
     "output_type": "execute_result"
    }
   ],
   "source": [
    "df.strength.value_counts()"
   ]
  },
  {
   "cell_type": "code",
   "execution_count": 34,
   "id": "2f003888-bbbc-47df-b48c-fc428962ede2",
   "metadata": {},
   "outputs": [
    {
     "data": {
      "text/plain": [
       "(669639,)"
      ]
     },
     "execution_count": 34,
     "metadata": {},
     "output_type": "execute_result"
    }
   ],
   "source": [
    "df.password.shape"
   ]
  },
  {
   "cell_type": "code",
   "execution_count": 35,
   "id": "b423b9b0-9bb7-495d-81d4-da09789176aa",
   "metadata": {},
   "outputs": [
    {
     "name": "stdout",
     "output_type": "stream",
     "text": [
      "Class distribution before undersampling:\n",
      "strength\n",
      "1    496801\n",
      "0     89701\n",
      "2     83137\n",
      "Name: count, dtype: int64\n"
     ]
    }
   ],
   "source": [
    "class_counts = df['strength'].value_counts()\n",
    "print(\"Class distribution before undersampling:\")\n",
    "print(class_counts)"
   ]
  },
  {
   "cell_type": "code",
   "execution_count": 36,
   "id": "63c8b94f-9541-45cd-a901-fab1747b6591",
   "metadata": {},
   "outputs": [],
   "source": [
    "under_sampler = RandomUnderSampler(sampling_strategy={0: 80000, 1: 80000, 2: 80000}, random_state=42)\n",
    "X_resampled, y_resampled = under_sampler.fit_resample(df.drop('strength', axis=1), df['strength'])"
   ]
  },
  {
   "cell_type": "code",
   "execution_count": 37,
   "id": "2ac449b1-564f-498f-8ed7-14d1e43d6cc9",
   "metadata": {},
   "outputs": [],
   "source": [
    "df_resampled = pd.DataFrame(X_resampled, columns=df.columns[:-1])\n",
    "df_resampled['strength'] = y_resampled"
   ]
  },
  {
   "cell_type": "code",
   "execution_count": 38,
   "id": "c15cdc46-cd04-425b-9e67-8f4f070c6681",
   "metadata": {},
   "outputs": [
    {
     "data": {
      "text/html": [
       "<div>\n",
       "<style scoped>\n",
       "    .dataframe tbody tr th:only-of-type {\n",
       "        vertical-align: middle;\n",
       "    }\n",
       "\n",
       "    .dataframe tbody tr th {\n",
       "        vertical-align: top;\n",
       "    }\n",
       "\n",
       "    .dataframe thead th {\n",
       "        text-align: right;\n",
       "    }\n",
       "</style>\n",
       "<table border=\"1\" class=\"dataframe\">\n",
       "  <thead>\n",
       "    <tr style=\"text-align: right;\">\n",
       "      <th></th>\n",
       "      <th>password</th>\n",
       "      <th>strength</th>\n",
       "    </tr>\n",
       "  </thead>\n",
       "  <tbody>\n",
       "    <tr>\n",
       "      <th>221611</th>\n",
       "      <td>73ptilp</td>\n",
       "      <td>0</td>\n",
       "    </tr>\n",
       "    <tr>\n",
       "      <th>594416</th>\n",
       "      <td>kalem55</td>\n",
       "      <td>0</td>\n",
       "    </tr>\n",
       "    <tr>\n",
       "      <th>221251</th>\n",
       "      <td>aca007</td>\n",
       "      <td>0</td>\n",
       "    </tr>\n",
       "    <tr>\n",
       "      <th>500448</th>\n",
       "      <td>nopy98u</td>\n",
       "      <td>0</td>\n",
       "    </tr>\n",
       "    <tr>\n",
       "      <th>615462</th>\n",
       "      <td>ac7i5ge</td>\n",
       "      <td>0</td>\n",
       "    </tr>\n",
       "  </tbody>\n",
       "</table>\n",
       "</div>"
      ],
      "text/plain": [
       "       password  strength\n",
       "221611  73ptilp         0\n",
       "594416  kalem55         0\n",
       "221251   aca007         0\n",
       "500448  nopy98u         0\n",
       "615462  ac7i5ge         0"
      ]
     },
     "execution_count": 38,
     "metadata": {},
     "output_type": "execute_result"
    }
   ],
   "source": [
    "df_resampled.head()"
   ]
  },
  {
   "cell_type": "code",
   "execution_count": 39,
   "id": "5df8c8ce-cb93-47f2-a9aa-edbc57bb0d56",
   "metadata": {},
   "outputs": [
    {
     "data": {
      "text/plain": [
       "[80000, 80000, 80000]"
      ]
     },
     "execution_count": 39,
     "metadata": {},
     "output_type": "execute_result"
    }
   ],
   "source": [
    "list(df_resampled.strength.value_counts())"
   ]
  },
  {
   "cell_type": "code",
   "execution_count": 40,
   "id": "6f302048-a1de-4a6d-a315-7003369024c5",
   "metadata": {},
   "outputs": [],
   "source": [
    "df = df_resampled"
   ]
  },
  {
   "cell_type": "code",
   "execution_count": 41,
   "id": "f5db9a29-62b9-4e26-a617-400adc17791f",
   "metadata": {},
   "outputs": [
    {
     "data": {
      "image/png": "[encoded data removed]",
      "text/plain": [
       "<Figure size 640x480 with 1 Axes>"
      ]
     },
     "metadata": {},
     "output_type": "display_data"
    }
   ],
   "source": [
    "plt.bar(list(set(list(df.strength))),list(df_resampled.strength.value_counts()), color='skyblue')\n",
    "plt.axis('off')\n",
    "plt.show()"
   ]
  },
  {
   "cell_type": "code",
   "execution_count": 42,
   "id": "badc7f10-88d6-40a6-8bc8-48dcd9eb325e",
   "metadata": {},
   "outputs": [
    {
     "name": "stdout",
     "output_type": "stream",
     "text": [
      "73ptilkaem5c0noy98ugs16wqz4rvjd2hxbf.TS-±MAYRBCDEÄOLIHJUNK(*)^#ZG PV_[Ù…XWF+;%$Q=\u0012&!Ú/<>Ð¤á\u0017?À\u0016\u001e",
      "ºÇ]}³\u0005\u001b\u001c",
      "«÷ ·¢û@{|\u0018´°ÃõÂ—\u0010þ\u0011Õß\u0013`\u001d",
      "¾ú~éÁ§É\u0006\\ÅŸ\u0002ÓÞ¹¶\u0004\u000e™Ü›Ñ‹µœ¨ÏÒðåäï¯\u0001Êà¡Û²×í\"Öæó¦\u000fÔòöùñ¿¼\n"
     ]
    }
   ],
   "source": [
    "tokens = ''\n",
    "for i in list(df.password):\n",
    "    for j in i:\n",
    "        if j not in tokens:\n",
    "            tokens += j\n",
    "\n",
    "print(tokens)"
   ]
  },
  {
   "cell_type": "code",
   "execution_count": 43,
   "id": "3dda21b6-a64c-42b9-b545-d992d381a7f0",
   "metadata": {},
   "outputs": [
    {
     "data": {
      "text/plain": [
       "{'\\x01': 0,\n",
       " '\\x02': 1,\n",
       " '\\x04': 2,\n",
       " '\\x05': 3,\n",
       " '\\x06': 4,\n",
       " '\\x0e': 5,\n",
       " '\\x0f': 6,\n",
       " '\\x10': 7,\n",
       " '\\x11': 8,\n",
       " '\\x12': 9,\n",
       " '\\x13': 10,\n",
       " '\\x16': 11,\n",
       " '\\x17': 12,\n",
       " '\\x18': 13,\n",
       " '\\x1b': 14,\n",
       " '\\x1c': 15,\n",
       " '\\x1d': 16,\n",
       " '\\x1e': 17,\n",
       " ' ': 18,\n",
       " '!': 19,\n",
       " '\"': 20,\n",
       " '#': 21,\n",
       " '$': 22,\n",
       " '%': 23,\n",
       " '&': 24,\n",
       " '(': 25,\n",
       " ')': 26,\n",
       " '*': 27,\n",
       " '+': 28,\n",
       " '-': 29,\n",
       " '.': 30,\n",
       " '/': 31,\n",
       " '0': 32,\n",
       " '1': 33,\n",
       " '2': 34,\n",
       " '3': 35,\n",
       " '4': 36,\n",
       " '5': 37,\n",
       " '6': 38,\n",
       " '7': 39,\n",
       " '8': 40,\n",
       " '9': 41,\n",
       " ';': 42,\n",
       " '<': 43,\n",
       " '=': 44,\n",
       " '>': 45,\n",
       " '?': 46,\n",
       " '@': 47,\n",
       " 'A': 48,\n",
       " 'B': 49,\n",
       " 'C': 50,\n",
       " 'D': 51,\n",
       " 'E': 52,\n",
       " 'F': 53,\n",
       " 'G': 54,\n",
       " 'H': 55,\n",
       " 'I': 56,\n",
       " 'J': 57,\n",
       " 'K': 58,\n",
       " 'L': 59,\n",
       " 'M': 60,\n",
       " 'N': 61,\n",
       " 'O': 62,\n",
       " 'P': 63,\n",
       " 'Q': 64,\n",
       " 'R': 65,\n",
       " 'S': 66,\n",
       " 'T': 67,\n",
       " 'U': 68,\n",
       " 'V': 69,\n",
       " 'W': 70,\n",
       " 'X': 71,\n",
       " 'Y': 72,\n",
       " 'Z': 73,\n",
       " '[': 74,\n",
       " '\\\\': 75,\n",
       " ']': 76,\n",
       " '^': 77,\n",
       " '_': 78,\n",
       " '`': 79,\n",
       " 'a': 80,\n",
       " 'b': 81,\n",
       " 'c': 82,\n",
       " 'd': 83,\n",
       " 'e': 84,\n",
       " 'f': 85,\n",
       " 'g': 86,\n",
       " 'h': 87,\n",
       " 'i': 88,\n",
       " 'j': 89,\n",
       " 'k': 90,\n",
       " 'l': 91,\n",
       " 'm': 92,\n",
       " 'n': 93,\n",
       " 'o': 94,\n",
       " 'p': 95,\n",
       " 'q': 96,\n",
       " 'r': 97,\n",
       " 's': 98,\n",
       " 't': 99,\n",
       " 'u': 100,\n",
       " 'v': 101,\n",
       " 'w': 102,\n",
       " 'x': 103,\n",
       " 'y': 104,\n",
       " 'z': 105,\n",
       " '{': 106,\n",
       " '|': 107,\n",
       " '}': 108,\n",
       " '~': 109,\n",
       " '\\x7f': 110,\n",
       " '\\x81': 111,\n",
       " '\\x8d': 112,\n",
       " '\\xa0': 113,\n",
       " '¡': 114,\n",
       " '¢': 115,\n",
       " '¤': 116,\n",
       " '¦': 117,\n",
       " '§': 118,\n",
       " '¨': 119,\n",
       " '«': 120,\n",
       " '¯': 121,\n",
       " '°': 122,\n",
       " '±': 123,\n",
       " '²': 124,\n",
       " '³': 125,\n",
       " '´': 126,\n",
       " 'µ': 127,\n",
       " '¶': 128,\n",
       " '·': 129,\n",
       " '¹': 130,\n",
       " 'º': 131,\n",
       " '¼': 132,\n",
       " '¾': 133,\n",
       " '¿': 134,\n",
       " 'À': 135,\n",
       " 'Á': 136,\n",
       " 'Â': 137,\n",
       " 'Ã': 138,\n",
       " 'Ä': 139,\n",
       " 'Å': 140,\n",
       " 'Ç': 141,\n",
       " 'É': 142,\n",
       " 'Ê': 143,\n",
       " 'Ï': 144,\n",
       " 'Ð': 145,\n",
       " 'Ñ': 146,\n",
       " 'Ò': 147,\n",
       " 'Ó': 148,\n",
       " 'Ô': 149,\n",
       " 'Õ': 150,\n",
       " 'Ö': 151,\n",
       " '×': 152,\n",
       " 'Ù': 153,\n",
       " 'Ú': 154,\n",
       " 'Û': 155,\n",
       " 'Ü': 156,\n",
       " 'Þ': 157,\n",
       " 'ß': 158,\n",
       " 'à': 159,\n",
       " 'á': 160,\n",
       " 'ä': 161,\n",
       " 'å': 162,\n",
       " 'æ': 163,\n",
       " 'é': 164,\n",
       " 'í': 165,\n",
       " 'ï': 166,\n",
       " 'ð': 167,\n",
       " 'ñ': 168,\n",
       " 'ò': 169,\n",
       " 'ó': 170,\n",
       " 'õ': 171,\n",
       " 'ö': 172,\n",
       " '÷': 173,\n",
       " 'ù': 174,\n",
       " 'ú': 175,\n",
       " 'û': 176,\n",
       " 'þ': 177,\n",
       " 'œ': 178,\n",
       " 'Ÿ': 179,\n",
       " '—': 180,\n",
       " '…': 181,\n",
       " '‹': 182,\n",
       " '›': 183,\n",
       " '™': 184}"
      ]
     },
     "execution_count": 43,
     "metadata": {},
     "output_type": "execute_result"
    }
   ],
   "source": [
    "char_to_tok = {v:k for k,v in enumerate(sorted(list(tokens), key=lambda x: ord(x)))}\n",
    "char_to_tok"
   ]
  },
  {
   "cell_type": "code",
   "execution_count": 44,
   "id": "2cbc4b04-3930-48ce-8c71-5f440e0db4f1",
   "metadata": {},
   "outputs": [],
   "source": [
    "df['max_len'] = df.password.apply(lambda x : len(x))"
   ]
  },
  {
   "cell_type": "code",
   "execution_count": 45,
   "id": "21f8f87e-c81f-47c1-b7ec-9dedae446476",
   "metadata": {},
   "outputs": [
    {
     "data": {
      "text/plain": [
       "220"
      ]
     },
     "execution_count": 45,
     "metadata": {},
     "output_type": "execute_result"
    }
   ],
   "source": [
    "max(df.max_len)"
   ]
  },
  {
   "cell_type": "code",
   "execution_count": 46,
   "id": "72ed04b5-6bcb-4a4a-92d8-7770af3edecd",
   "metadata": {},
   "outputs": [
    {
     "data": {
      "text/html": [
       "<div>\n",
       "<style scoped>\n",
       "    .dataframe tbody tr th:only-of-type {\n",
       "        vertical-align: middle;\n",
       "    }\n",
       "\n",
       "    .dataframe tbody tr th {\n",
       "        vertical-align: top;\n",
       "    }\n",
       "\n",
       "    .dataframe thead th {\n",
       "        text-align: right;\n",
       "    }\n",
       "</style>\n",
       "<table border=\"1\" class=\"dataframe\">\n",
       "  <thead>\n",
       "    <tr style=\"text-align: right;\">\n",
       "      <th></th>\n",
       "      <th>password</th>\n",
       "      <th>strength</th>\n",
       "      <th>max_len</th>\n",
       "    </tr>\n",
       "  </thead>\n",
       "  <tbody>\n",
       "    <tr>\n",
       "      <th>237921</th>\n",
       "      <td>n43sSh567hDjJ678Fj5D857I6j58SjJ876F89762k3liyU...</td>\n",
       "      <td>2</td>\n",
       "      <td>147</td>\n",
       "    </tr>\n",
       "  </tbody>\n",
       "</table>\n",
       "</div>"
      ],
      "text/plain": [
       "                                                 password  strength  max_len\n",
       "237921  n43sSh567hDjJ678Fj5D857I6j58SjJ876F89762k3liyU...         2      147"
      ]
     },
     "execution_count": 46,
     "metadata": {},
     "output_type": "execute_result"
    }
   ],
   "source": [
    "df.loc[df.max_len == 147]"
   ]
  },
  {
   "cell_type": "code",
   "execution_count": 47,
   "id": "97003a6e-bf74-4577-be11-7eff9c96f923",
   "metadata": {},
   "outputs": [],
   "source": [
    "def preprocess(text):\n",
    "    L = []\n",
    "    for i in list(text):\n",
    "        L.append(char_to_tok[i])\n",
    "    for _ in range(len(L),220):\n",
    "        L.append(-1)\n",
    "    return L"
   ]
  },
  {
   "cell_type": "code",
   "execution_count": 48,
   "id": "b1ba2698-23aa-4740-a794-ad68e888bffe",
   "metadata": {},
   "outputs": [],
   "source": [
    "df['X'] = df.password.apply(lambda x : preprocess(x))"
   ]
  },
  {
   "cell_type": "code",
   "execution_count": 49,
   "id": "5dca8dbc-63b4-406e-8b8a-a4492696f00c",
   "metadata": {},
   "outputs": [
    {
     "data": {
      "text/plain": [
       "240000"
      ]
     },
     "execution_count": 49,
     "metadata": {},
     "output_type": "execute_result"
    }
   ],
   "source": [
    "len(df)"
   ]
  },
  {
   "cell_type": "code",
   "execution_count": 50,
   "id": "b2e90c52-d02c-45d6-979f-340fe23fa05d",
   "metadata": {},
   "outputs": [
    {
     "data": {
      "text/html": [
       "<div>\n",
       "<style scoped>\n",
       "    .dataframe tbody tr th:only-of-type {\n",
       "        vertical-align: middle;\n",
       "    }\n",
       "\n",
       "    .dataframe tbody tr th {\n",
       "        vertical-align: top;\n",
       "    }\n",
       "\n",
       "    .dataframe thead th {\n",
       "        text-align: right;\n",
       "    }\n",
       "</style>\n",
       "<table border=\"1\" class=\"dataframe\">\n",
       "  <thead>\n",
       "    <tr style=\"text-align: right;\">\n",
       "      <th></th>\n",
       "      <th>password</th>\n",
       "      <th>strength</th>\n",
       "      <th>max_len</th>\n",
       "      <th>X</th>\n",
       "    </tr>\n",
       "  </thead>\n",
       "  <tbody>\n",
       "    <tr>\n",
       "      <th>221611</th>\n",
       "      <td>73ptilp</td>\n",
       "      <td>0</td>\n",
       "      <td>7</td>\n",
       "      <td>[39, 35, 95, 99, 88, 91, 95, -1, -1, -1, -1, -...</td>\n",
       "    </tr>\n",
       "    <tr>\n",
       "      <th>594416</th>\n",
       "      <td>kalem55</td>\n",
       "      <td>0</td>\n",
       "      <td>7</td>\n",
       "      <td>[90, 80, 91, 84, 92, 37, 37, -1, -1, -1, -1, -...</td>\n",
       "    </tr>\n",
       "    <tr>\n",
       "      <th>221251</th>\n",
       "      <td>aca007</td>\n",
       "      <td>0</td>\n",
       "      <td>6</td>\n",
       "      <td>[80, 82, 80, 32, 32, 39, -1, -1, -1, -1, -1, -...</td>\n",
       "    </tr>\n",
       "    <tr>\n",
       "      <th>500448</th>\n",
       "      <td>nopy98u</td>\n",
       "      <td>0</td>\n",
       "      <td>7</td>\n",
       "      <td>[93, 94, 95, 104, 41, 40, 100, -1, -1, -1, -1,...</td>\n",
       "    </tr>\n",
       "    <tr>\n",
       "      <th>615462</th>\n",
       "      <td>ac7i5ge</td>\n",
       "      <td>0</td>\n",
       "      <td>7</td>\n",
       "      <td>[80, 82, 39, 88, 37, 86, 84, -1, -1, -1, -1, -...</td>\n",
       "    </tr>\n",
       "  </tbody>\n",
       "</table>\n",
       "</div>"
      ],
      "text/plain": [
       "       password  strength  max_len  \\\n",
       "221611  73ptilp         0        7   \n",
       "594416  kalem55         0        7   \n",
       "221251   aca007         0        6   \n",
       "500448  nopy98u         0        7   \n",
       "615462  ac7i5ge         0        7   \n",
       "\n",
       "                                                        X  \n",
       "221611  [39, 35, 95, 99, 88, 91, 95, -1, -1, -1, -1, -...  \n",
       "594416  [90, 80, 91, 84, 92, 37, 37, -1, -1, -1, -1, -...  \n",
       "221251  [80, 82, 80, 32, 32, 39, -1, -1, -1, -1, -1, -...  \n",
       "500448  [93, 94, 95, 104, 41, 40, 100, -1, -1, -1, -1,...  \n",
       "615462  [80, 82, 39, 88, 37, 86, 84, -1, -1, -1, -1, -...  "
      ]
     },
     "execution_count": 50,
     "metadata": {},
     "output_type": "execute_result"
    }
   ],
   "source": [
    "df.head()"
   ]
  },
  {
   "cell_type": "code",
   "execution_count": 51,
   "id": "d4664368-43e9-4ca1-bc9c-72116f1bec46",
   "metadata": {},
   "outputs": [
    {
     "data": {
      "text/plain": [
       "array([list([92, 33, 34, 35, 35, 35, 35, -1, -1, -1, -1, -1, -1, -1, -1, -1, -1, -1, -1, -1, -1, -1, -1, -1, -1, -1, -1, -1, -1, -1, -1, -1, -1, -1, -1, -1, -1, -1, -1, -1, -1, -1, -1, -1, -1, -1, -1, -1, -1, -1, -1, -1, -1, -1, -1, -1, -1, -1, -1, -1, -1, -1, -1, -1, -1, -1, -1, -1, -1, -1, -1, -1, -1, -1, -1, -1, -1, -1, -1, -1, -1, -1, -1, -1, -1, -1, -1, -1, -1, -1, -1, -1, -1, -1, -1, -1, -1, -1, -1, -1, -1, -1, -1, -1, -1, -1, -1, -1, -1, -1, -1, -1, -1, -1, -1, -1, -1, -1, -1, -1, -1, -1, -1, -1, -1, -1, -1, -1, -1, -1, -1, -1, -1, -1, -1, -1, -1, -1, -1, -1, -1, -1, -1, -1, -1, -1, -1, -1, -1, -1, -1, -1, -1, -1, -1, -1, -1, -1, -1, -1, -1, -1, -1, -1, -1, -1, -1, -1, -1, -1, -1, -1, -1, -1, -1, -1, -1, -1, -1, -1, -1, -1, -1, -1, -1, -1, -1, -1, -1, -1, -1, -1, -1, -1, -1, -1, -1, -1, -1, -1, -1, -1, -1, -1, -1, -1, -1, -1, -1, -1, -1, -1, -1, -1, -1, -1, -1, -1, -1, -1]),\n",
       "       list([92, 94, 91, 82, 80, 89, 84, 99, 84, 33, -1, -1, -1, -1, -1, -1, -1, -1, -1, -1, -1, -1, -1, -1, -1, -1, -1, -1, -1, -1, -1, -1, -1, -1, -1, -1, -1, -1, -1, -1, -1, -1, -1, -1, -1, -1, -1, -1, -1, -1, -1, -1, -1, -1, -1, -1, -1, -1, -1, -1, -1, -1, -1, -1, -1, -1, -1, -1, -1, -1, -1, -1, -1, -1, -1, -1, -1, -1, -1, -1, -1, -1, -1, -1, -1, -1, -1, -1, -1, -1, -1, -1, -1, -1, -1, -1, -1, -1, -1, -1, -1, -1, -1, -1, -1, -1, -1, -1, -1, -1, -1, -1, -1, -1, -1, -1, -1, -1, -1, -1, -1, -1, -1, -1, -1, -1, -1, -1, -1, -1, -1, -1, -1, -1, -1, -1, -1, -1, -1, -1, -1, -1, -1, -1, -1, -1, -1, -1, -1, -1, -1, -1, -1, -1, -1, -1, -1, -1, -1, -1, -1, -1, -1, -1, -1, -1, -1, -1, -1, -1, -1, -1, -1, -1, -1, -1, -1, -1, -1, -1, -1, -1, -1, -1, -1, -1, -1, -1, -1, -1, -1, -1, -1, -1, -1, -1, -1, -1, -1, -1, -1, -1, -1, -1, -1, -1, -1, -1, -1, -1, -1, -1, -1, -1, -1, -1, -1, -1, -1, -1]),\n",
       "       list([33, 70, 38, 63, 53, 58, 62, 72, 51, 33, 50, 68, 72, 85, 38, -1, -1, -1, -1, -1, -1, -1, -1, -1, -1, -1, -1, -1, -1, -1, -1, -1, -1, -1, -1, -1, -1, -1, -1, -1, -1, -1, -1, -1, -1, -1, -1, -1, -1, -1, -1, -1, -1, -1, -1, -1, -1, -1, -1, -1, -1, -1, -1, -1, -1, -1, -1, -1, -1, -1, -1, -1, -1, -1, -1, -1, -1, -1, -1, -1, -1, -1, -1, -1, -1, -1, -1, -1, -1, -1, -1, -1, -1, -1, -1, -1, -1, -1, -1, -1, -1, -1, -1, -1, -1, -1, -1, -1, -1, -1, -1, -1, -1, -1, -1, -1, -1, -1, -1, -1, -1, -1, -1, -1, -1, -1, -1, -1, -1, -1, -1, -1, -1, -1, -1, -1, -1, -1, -1, -1, -1, -1, -1, -1, -1, -1, -1, -1, -1, -1, -1, -1, -1, -1, -1, -1, -1, -1, -1, -1, -1, -1, -1, -1, -1, -1, -1, -1, -1, -1, -1, -1, -1, -1, -1, -1, -1, -1, -1, -1, -1, -1, -1, -1, -1, -1, -1, -1, -1, -1, -1, -1, -1, -1, -1, -1, -1, -1, -1, -1, -1, -1, -1, -1, -1, -1, -1, -1, -1, -1, -1, -1, -1, -1, -1, -1, -1, -1, -1, -1]),\n",
       "       ...,\n",
       "       list([35, 91, 88, 105, 36, 81, 35, 99, 87, -1, -1, -1, -1, -1, -1, -1, -1, -1, -1, -1, -1, -1, -1, -1, -1, -1, -1, -1, -1, -1, -1, -1, -1, -1, -1, -1, -1, -1, -1, -1, -1, -1, -1, -1, -1, -1, -1, -1, -1, -1, -1, -1, -1, -1, -1, -1, -1, -1, -1, -1, -1, -1, -1, -1, -1, -1, -1, -1, -1, -1, -1, -1, -1, -1, -1, -1, -1, -1, -1, -1, -1, -1, -1, -1, -1, -1, -1, -1, -1, -1, -1, -1, -1, -1, -1, -1, -1, -1, -1, -1, -1, -1, -1, -1, -1, -1, -1, -1, -1, -1, -1, -1, -1, -1, -1, -1, -1, -1, -1, -1, -1, -1, -1, -1, -1, -1, -1, -1, -1, -1, -1, -1, -1, -1, -1, -1, -1, -1, -1, -1, -1, -1, -1, -1, -1, -1, -1, -1, -1, -1, -1, -1, -1, -1, -1, -1, -1, -1, -1, -1, -1, -1, -1, -1, -1, -1, -1, -1, -1, -1, -1, -1, -1, -1, -1, -1, -1, -1, -1, -1, -1, -1, -1, -1, -1, -1, -1, -1, -1, -1, -1, -1, -1, -1, -1, -1, -1, -1, -1, -1, -1, -1, -1, -1, -1, -1, -1, -1, -1, -1, -1, -1, -1, -1, -1, -1, -1, -1, -1, -1]),\n",
       "       list([97, 96, 100, 83, 95, 87, 88, 102, 90, 38, 35, -1, -1, -1, -1, -1, -1, -1, -1, -1, -1, -1, -1, -1, -1, -1, -1, -1, -1, -1, -1, -1, -1, -1, -1, -1, -1, -1, -1, -1, -1, -1, -1, -1, -1, -1, -1, -1, -1, -1, -1, -1, -1, -1, -1, -1, -1, -1, -1, -1, -1, -1, -1, -1, -1, -1, -1, -1, -1, -1, -1, -1, -1, -1, -1, -1, -1, -1, -1, -1, -1, -1, -1, -1, -1, -1, -1, -1, -1, -1, -1, -1, -1, -1, -1, -1, -1, -1, -1, -1, -1, -1, -1, -1, -1, -1, -1, -1, -1, -1, -1, -1, -1, -1, -1, -1, -1, -1, -1, -1, -1, -1, -1, -1, -1, -1, -1, -1, -1, -1, -1, -1, -1, -1, -1, -1, -1, -1, -1, -1, -1, -1, -1, -1, -1, -1, -1, -1, -1, -1, -1, -1, -1, -1, -1, -1, -1, -1, -1, -1, -1, -1, -1, -1, -1, -1, -1, -1, -1, -1, -1, -1, -1, -1, -1, -1, -1, -1, -1, -1, -1, -1, -1, -1, -1, -1, -1, -1, -1, -1, -1, -1, -1, -1, -1, -1, -1, -1, -1, -1, -1, -1, -1, -1, -1, -1, -1, -1, -1, -1, -1, -1, -1, -1, -1, -1, -1, -1, -1, -1]),\n",
       "       list([83, 84, 103, 99, 84, 97, 33, 32, 40, 35, -1, -1, -1, -1, -1, -1, -1, -1, -1, -1, -1, -1, -1, -1, -1, -1, -1, -1, -1, -1, -1, -1, -1, -1, -1, -1, -1, -1, -1, -1, -1, -1, -1, -1, -1, -1, -1, -1, -1, -1, -1, -1, -1, -1, -1, -1, -1, -1, -1, -1, -1, -1, -1, -1, -1, -1, -1, -1, -1, -1, -1, -1, -1, -1, -1, -1, -1, -1, -1, -1, -1, -1, -1, -1, -1, -1, -1, -1, -1, -1, -1, -1, -1, -1, -1, -1, -1, -1, -1, -1, -1, -1, -1, -1, -1, -1, -1, -1, -1, -1, -1, -1, -1, -1, -1, -1, -1, -1, -1, -1, -1, -1, -1, -1, -1, -1, -1, -1, -1, -1, -1, -1, -1, -1, -1, -1, -1, -1, -1, -1, -1, -1, -1, -1, -1, -1, -1, -1, -1, -1, -1, -1, -1, -1, -1, -1, -1, -1, -1, -1, -1, -1, -1, -1, -1, -1, -1, -1, -1, -1, -1, -1, -1, -1, -1, -1, -1, -1, -1, -1, -1, -1, -1, -1, -1, -1, -1, -1, -1, -1, -1, -1, -1, -1, -1, -1, -1, -1, -1, -1, -1, -1, -1, -1, -1, -1, -1, -1, -1, -1, -1, -1, -1, -1, -1, -1, -1, -1, -1, -1])],\n",
       "      dtype=object)"
      ]
     },
     "execution_count": 51,
     "metadata": {},
     "output_type": "execute_result"
    }
   ],
   "source": [
    "xtrain,xtest,ytrain,ytest = train_test_split(\n",
    "    df.X.values,\n",
    "    df.strength,test_size=0.3\n",
    ")\n",
    "xtrain"
   ]
  },
  {
   "cell_type": "code",
   "execution_count": 52,
   "id": "a8641751-f272-484e-8866-07fb239c1537",
   "metadata": {},
   "outputs": [],
   "source": [
    "X_train_2d = np.stack(xtrain)\n",
    "X_test_2d = np.stack(xtest)"
   ]
  },
  {
   "cell_type": "code",
   "execution_count": 53,
   "id": "28559b80-27ff-4f73-afec-0145b3ee0c77",
   "metadata": {},
   "outputs": [
    {
     "data": {
      "text/plain": [
       "(array([[ 92,  33,  34, ...,  -1,  -1,  -1],\n",
       "        [ 92,  94,  91, ...,  -1,  -1,  -1],\n",
       "        [ 33,  70,  38, ...,  -1,  -1,  -1],\n",
       "        ...,\n",
       "        [ 35,  91,  88, ...,  -1,  -1,  -1],\n",
       "        [ 97,  96, 100, ...,  -1,  -1,  -1],\n",
       "        [ 83,  84, 103, ...,  -1,  -1,  -1]]),\n",
       " array([[72, 84, 88, ..., -1, -1, -1],\n",
       "        [92, 80, 99, ..., -1, -1, -1],\n",
       "        [98, 87, 94, ..., -1, -1, -1],\n",
       "        ...,\n",
       "        [81, 80, 98, ..., -1, -1, -1],\n",
       "        [41, 98, 33, ..., -1, -1, -1],\n",
       "        [81, 80, 86, ..., -1, -1, -1]]))"
      ]
     },
     "execution_count": 53,
     "metadata": {},
     "output_type": "execute_result"
    }
   ],
   "source": [
    "X_train_2d,X_test_2d"
   ]
  },
  {
   "cell_type": "code",
   "execution_count": 54,
   "id": "250399f0-2a80-440d-b38e-c7323e4b5cd9",
   "metadata": {},
   "outputs": [],
   "source": [
    "d_model = DecisionTreeClassifier()"
   ]
  },
  {
   "cell_type": "code",
   "execution_count": 55,
   "id": "95f78b7e-ff87-4767-b9aa-c18671901963",
   "metadata": {},
   "outputs": [
    {
     "data": {
      "text/html": [
       "<style>#sk-container-id-1 {color: black;}#sk-container-id-1 pre{padding: 0;}#sk-container-id-1 div.sk-toggleable {background-color: white;}#sk-container-id-1 label.sk-toggleable__label {cursor: pointer;display: block;width: 100%;margin-bottom: 0;padding: 0.3em;box-sizing: border-box;text-align: center;}#sk-container-id-1 label.sk-toggleable__label-arrow:before {content: \"▸\";float: left;margin-right: 0.25em;color: #696969;}#sk-container-id-1 label.sk-toggleable__label-arrow:hover:before {color: black;}#sk-container-id-1 div.sk-estimator:hover label.sk-toggleable__label-arrow:before {color: black;}#sk-container-id-1 div.sk-toggleable__content {max-height: 0;max-width: 0;overflow: hidden;text-align: left;background-color: #f0f8ff;}#sk-container-id-1 div.sk-toggleable__content pre {margin: 0.2em;color: black;border-radius: 0.25em;background-color: #f0f8ff;}#sk-container-id-1 input.sk-toggleable__control:checked~div.sk-toggleable__content {max-height: 200px;max-width: 100%;overflow: auto;}#sk-container-id-1 input.sk-toggleable__control:checked~label.sk-toggleable__label-arrow:before {content: \"▾\";}#sk-container-id-1 div.sk-estimator input.sk-toggleable__control:checked~label.sk-toggleable__label {background-color: #d4ebff;}#sk-container-id-1 div.sk-label input.sk-toggleable__control:checked~label.sk-toggleable__label {background-color: #d4ebff;}#sk-container-id-1 input.sk-hidden--visually {border: 0;clip: rect(1px 1px 1px 1px);clip: rect(1px, 1px, 1px, 1px);height: 1px;margin: -1px;overflow: hidden;padding: 0;position: absolute;width: 1px;}#sk-container-id-1 div.sk-estimator {font-family: monospace;background-color: #f0f8ff;border: 1px dotted black;border-radius: 0.25em;box-sizing: border-box;margin-bottom: 0.5em;}#sk-container-id-1 div.sk-estimator:hover {background-color: #d4ebff;}#sk-container-id-1 div.sk-parallel-item::after {content: \"\";width: 100%;border-bottom: 1px solid gray;flex-grow: 1;}#sk-container-id-1 div.sk-label:hover label.sk-toggleable__label {background-color: #d4ebff;}#sk-container-id-1 div.sk-serial::before {content: \"\";position: absolute;border-left: 1px solid gray;box-sizing: border-box;top: 0;bottom: 0;left: 50%;z-index: 0;}#sk-container-id-1 div.sk-serial {display: flex;flex-direction: column;align-items: center;background-color: white;padding-right: 0.2em;padding-left: 0.2em;position: relative;}#sk-container-id-1 div.sk-item {position: relative;z-index: 1;}#sk-container-id-1 div.sk-parallel {display: flex;align-items: stretch;justify-content: center;background-color: white;position: relative;}#sk-container-id-1 div.sk-item::before, #sk-container-id-1 div.sk-parallel-item::before {content: \"\";position: absolute;border-left: 1px solid gray;box-sizing: border-box;top: 0;bottom: 0;left: 50%;z-index: -1;}#sk-container-id-1 div.sk-parallel-item {display: flex;flex-direction: column;z-index: 1;position: relative;background-color: white;}#sk-container-id-1 div.sk-parallel-item:first-child::after {align-self: flex-end;width: 50%;}#sk-container-id-1 div.sk-parallel-item:last-child::after {align-self: flex-start;width: 50%;}#sk-container-id-1 div.sk-parallel-item:only-child::after {width: 0;}#sk-container-id-1 div.sk-dashed-wrapped {border: 1px dashed gray;margin: 0 0.4em 0.5em 0.4em;box-sizing: border-box;padding-bottom: 0.4em;background-color: white;}#sk-container-id-1 div.sk-label label {font-family: monospace;font-weight: bold;display: inline-block;line-height: 1.2em;}#sk-container-id-1 div.sk-label-container {text-align: center;}#sk-container-id-1 div.sk-container {/* jupyter's `normalize.less` sets `[hidden] { display: none; }` but bootstrap.min.css set `[hidden] { display: none !important; }` so we also need the `!important` here to be able to override the default hidden behavior on the sphinx rendered scikit-learn.org. See: https://github.com/scikit-learn/scikit-learn/issues/21755 */display: inline-block !important;position: relative;}#sk-container-id-1 div.sk-text-repr-fallback {display: none;}</style><div id=\"sk-container-id-1\" class=\"sk-top-container\"><div class=\"sk-text-repr-fallback\"><pre>DecisionTreeClassifier()</pre><b>In a Jupyter environment, please rerun this cell to show the HTML representation or trust the notebook. <br />On GitHub, the HTML representation is unable to render, please try loading this page with nbviewer.org.</b></div><div class=\"sk-container\" hidden><div class=\"sk-item\"><div class=\"sk-estimator sk-toggleable\"><input class=\"sk-toggleable__control sk-hidden--visually\" id=\"sk-estimator-id-1\" type=\"checkbox\" checked><label for=\"sk-estimator-id-1\" class=\"sk-toggleable__label sk-toggleable__label-arrow\">DecisionTreeClassifier</label><div class=\"sk-toggleable__content\"><pre>DecisionTreeClassifier()</pre></div></div></div></div></div>"
      ],
      "text/plain": [
       "DecisionTreeClassifier()"
      ]
     },
     "execution_count": 55,
     "metadata": {},
     "output_type": "execute_result"
    }
   ],
   "source": [
    "d_model.fit(X_train_2d,ytrain)"
   ]
  },
  {
   "cell_type": "code",
   "execution_count": 56,
   "id": "046ef73b-76b7-494f-8d6b-3daefa88c379",
   "metadata": {},
   "outputs": [],
   "source": [
    "y_pred = d_model.predict(X_test_2d)"
   ]
  },
  {
   "cell_type": "code",
   "execution_count": 57,
   "id": "2e56c090-7c20-4e63-80ff-8623fcbee042",
   "metadata": {},
   "outputs": [
    {
     "name": "stdout",
     "output_type": "stream",
     "text": [
      "              precision    recall  f1-score   support\n",
      "\n",
      "           0       1.00      1.00      1.00     24053\n",
      "           1       1.00      1.00      1.00     24015\n",
      "           2       1.00      1.00      1.00     23932\n",
      "\n",
      "    accuracy                           1.00     72000\n",
      "   macro avg       1.00      1.00      1.00     72000\n",
      "weighted avg       1.00      1.00      1.00     72000\n",
      "\n"
     ]
    }
   ],
   "source": [
    "print(classification_report(ytest,y_pred))"
   ]
  },
  {
   "cell_type": "code",
   "execution_count": 58,
   "id": "04e99f28-90e8-40f3-9d2c-39fd6e13a8aa",
   "metadata": {},
   "outputs": [],
   "source": [
    "knn = KNeighborsClassifier(n_neighbors=3)"
   ]
  },
  {
   "cell_type": "code",
   "execution_count": 59,
   "id": "fae10098-5c90-4c89-bb4b-065996ef59ad",
   "metadata": {},
   "outputs": [
    {
     "data": {
      "text/html": [
       "<style>#sk-container-id-2 {color: black;}#sk-container-id-2 pre{padding: 0;}#sk-container-id-2 div.sk-toggleable {background-color: white;}#sk-container-id-2 label.sk-toggleable__label {cursor: pointer;display: block;width: 100%;margin-bottom: 0;padding: 0.3em;box-sizing: border-box;text-align: center;}#sk-container-id-2 label.sk-toggleable__label-arrow:before {content: \"▸\";float: left;margin-right: 0.25em;color: #696969;}#sk-container-id-2 label.sk-toggleable__label-arrow:hover:before {color: black;}#sk-container-id-2 div.sk-estimator:hover label.sk-toggleable__label-arrow:before {color: black;}#sk-container-id-2 div.sk-toggleable__content {max-height: 0;max-width: 0;overflow: hidden;text-align: left;background-color: #f0f8ff;}#sk-container-id-2 div.sk-toggleable__content pre {margin: 0.2em;color: black;border-radius: 0.25em;background-color: #f0f8ff;}#sk-container-id-2 input.sk-toggleable__control:checked~div.sk-toggleable__content {max-height: 200px;max-width: 100%;overflow: auto;}#sk-container-id-2 input.sk-toggleable__control:checked~label.sk-toggleable__label-arrow:before {content: \"▾\";}#sk-container-id-2 div.sk-estimator input.sk-toggleable__control:checked~label.sk-toggleable__label {background-color: #d4ebff;}#sk-container-id-2 div.sk-label input.sk-toggleable__control:checked~label.sk-toggleable__label {background-color: #d4ebff;}#sk-container-id-2 input.sk-hidden--visually {border: 0;clip: rect(1px 1px 1px 1px);clip: rect(1px, 1px, 1px, 1px);height: 1px;margin: -1px;overflow: hidden;padding: 0;position: absolute;width: 1px;}#sk-container-id-2 div.sk-estimator {font-family: monospace;background-color: #f0f8ff;border: 1px dotted black;border-radius: 0.25em;box-sizing: border-box;margin-bottom: 0.5em;}#sk-container-id-2 div.sk-estimator:hover {background-color: #d4ebff;}#sk-container-id-2 div.sk-parallel-item::after {content: \"\";width: 100%;border-bottom: 1px solid gray;flex-grow: 1;}#sk-container-id-2 div.sk-label:hover label.sk-toggleable__label {background-color: #d4ebff;}#sk-container-id-2 div.sk-serial::before {content: \"\";position: absolute;border-left: 1px solid gray;box-sizing: border-box;top: 0;bottom: 0;left: 50%;z-index: 0;}#sk-container-id-2 div.sk-serial {display: flex;flex-direction: column;align-items: center;background-color: white;padding-right: 0.2em;padding-left: 0.2em;position: relative;}#sk-container-id-2 div.sk-item {position: relative;z-index: 1;}#sk-container-id-2 div.sk-parallel {display: flex;align-items: stretch;justify-content: center;background-color: white;position: relative;}#sk-container-id-2 div.sk-item::before, #sk-container-id-2 div.sk-parallel-item::before {content: \"\";position: absolute;border-left: 1px solid gray;box-sizing: border-box;top: 0;bottom: 0;left: 50%;z-index: -1;}#sk-container-id-2 div.sk-parallel-item {display: flex;flex-direction: column;z-index: 1;position: relative;background-color: white;}#sk-container-id-2 div.sk-parallel-item:first-child::after {align-self: flex-end;width: 50%;}#sk-container-id-2 div.sk-parallel-item:last-child::after {align-self: flex-start;width: 50%;}#sk-container-id-2 div.sk-parallel-item:only-child::after {width: 0;}#sk-container-id-2 div.sk-dashed-wrapped {border: 1px dashed gray;margin: 0 0.4em 0.5em 0.4em;box-sizing: border-box;padding-bottom: 0.4em;background-color: white;}#sk-container-id-2 div.sk-label label {font-family: monospace;font-weight: bold;display: inline-block;line-height: 1.2em;}#sk-container-id-2 div.sk-label-container {text-align: center;}#sk-container-id-2 div.sk-container {/* jupyter's `normalize.less` sets `[hidden] { display: none; }` but bootstrap.min.css set `[hidden] { display: none !important; }` so we also need the `!important` here to be able to override the default hidden behavior on the sphinx rendered scikit-learn.org. See: https://github.com/scikit-learn/scikit-learn/issues/21755 */display: inline-block !important;position: relative;}#sk-container-id-2 div.sk-text-repr-fallback {display: none;}</style><div id=\"sk-container-id-2\" class=\"sk-top-container\"><div class=\"sk-text-repr-fallback\"><pre>KNeighborsClassifier(n_neighbors=3)</pre><b>In a Jupyter environment, please rerun this cell to show the HTML representation or trust the notebook. <br />On GitHub, the HTML representation is unable to render, please try loading this page with nbviewer.org.</b></div><div class=\"sk-container\" hidden><div class=\"sk-item\"><div class=\"sk-estimator sk-toggleable\"><input class=\"sk-toggleable__control sk-hidden--visually\" id=\"sk-estimator-id-2\" type=\"checkbox\" checked><label for=\"sk-estimator-id-2\" class=\"sk-toggleable__label sk-toggleable__label-arrow\">KNeighborsClassifier</label><div class=\"sk-toggleable__content\"><pre>KNeighborsClassifier(n_neighbors=3)</pre></div></div></div></div></div>"
      ],
      "text/plain": [
       "KNeighborsClassifier(n_neighbors=3)"
      ]
     },
     "execution_count": 59,
     "metadata": {},
     "output_type": "execute_result"
    }
   ],
   "source": [
    "knn.fit(X_train_2d,ytrain)"
   ]
  },
  {
   "cell_type": "code",
   "execution_count": 60,
   "id": "dacf76fe-5f5f-408f-b870-3b06fa858c45",
   "metadata": {},
   "outputs": [],
   "source": [
    "y_pred = d_model.predict(X_test_2d)"
   ]
  },
  {
   "cell_type": "code",
   "execution_count": 61,
   "id": "73f036fc-5a5e-4a95-bbcd-455a01c19bd3",
   "metadata": {},
   "outputs": [
    {
     "name": "stdout",
     "output_type": "stream",
     "text": [
      "              precision    recall  f1-score   support\n",
      "\n",
      "           0       1.00      1.00      1.00     24053\n",
      "           1       1.00      1.00      1.00     24015\n",
      "           2       1.00      1.00      1.00     23932\n",
      "\n",
      "    accuracy                           1.00     72000\n",
      "   macro avg       1.00      1.00      1.00     72000\n",
      "weighted avg       1.00      1.00      1.00     72000\n",
      "\n"
     ]
    }
   ],
   "source": [
    "print(classification_report(ytest,y_pred))"
   ]
  },
  {
   "cell_type": "code",
   "execution_count": 62,
   "id": "7feed1d3-75ac-438d-9e4c-54e66d2aaca4",
   "metadata": {},
   "outputs": [],
   "source": [
    "rf = RandomForestClassifier()"
   ]
  },
  {
   "cell_type": "code",
   "execution_count": 63,
   "id": "4435cd61-dfcd-471e-a930-9dbceebd9215",
   "metadata": {},
   "outputs": [
    {
     "data": {
      "text/html": [
       "<style>#sk-container-id-3 {color: black;}#sk-container-id-3 pre{padding: 0;}#sk-container-id-3 div.sk-toggleable {background-color: white;}#sk-container-id-3 label.sk-toggleable__label {cursor: pointer;display: block;width: 100%;margin-bottom: 0;padding: 0.3em;box-sizing: border-box;text-align: center;}#sk-container-id-3 label.sk-toggleable__label-arrow:before {content: \"▸\";float: left;margin-right: 0.25em;color: #696969;}#sk-container-id-3 label.sk-toggleable__label-arrow:hover:before {color: black;}#sk-container-id-3 div.sk-estimator:hover label.sk-toggleable__label-arrow:before {color: black;}#sk-container-id-3 div.sk-toggleable__content {max-height: 0;max-width: 0;overflow: hidden;text-align: left;background-color: #f0f8ff;}#sk-container-id-3 div.sk-toggleable__content pre {margin: 0.2em;color: black;border-radius: 0.25em;background-color: #f0f8ff;}#sk-container-id-3 input.sk-toggleable__control:checked~div.sk-toggleable__content {max-height: 200px;max-width: 100%;overflow: auto;}#sk-container-id-3 input.sk-toggleable__control:checked~label.sk-toggleable__label-arrow:before {content: \"▾\";}#sk-container-id-3 div.sk-estimator input.sk-toggleable__control:checked~label.sk-toggleable__label {background-color: #d4ebff;}#sk-container-id-3 div.sk-label input.sk-toggleable__control:checked~label.sk-toggleable__label {background-color: #d4ebff;}#sk-container-id-3 input.sk-hidden--visually {border: 0;clip: rect(1px 1px 1px 1px);clip: rect(1px, 1px, 1px, 1px);height: 1px;margin: -1px;overflow: hidden;padding: 0;position: absolute;width: 1px;}#sk-container-id-3 div.sk-estimator {font-family: monospace;background-color: #f0f8ff;border: 1px dotted black;border-radius: 0.25em;box-sizing: border-box;margin-bottom: 0.5em;}#sk-container-id-3 div.sk-estimator:hover {background-color: #d4ebff;}#sk-container-id-3 div.sk-parallel-item::after {content: \"\";width: 100%;border-bottom: 1px solid gray;flex-grow: 1;}#sk-container-id-3 div.sk-label:hover label.sk-toggleable__label {background-color: #d4ebff;}#sk-container-id-3 div.sk-serial::before {content: \"\";position: absolute;border-left: 1px solid gray;box-sizing: border-box;top: 0;bottom: 0;left: 50%;z-index: 0;}#sk-container-id-3 div.sk-serial {display: flex;flex-direction: column;align-items: center;background-color: white;padding-right: 0.2em;padding-left: 0.2em;position: relative;}#sk-container-id-3 div.sk-item {position: relative;z-index: 1;}#sk-container-id-3 div.sk-parallel {display: flex;align-items: stretch;justify-content: center;background-color: white;position: relative;}#sk-container-id-3 div.sk-item::before, #sk-container-id-3 div.sk-parallel-item::before {content: \"\";position: absolute;border-left: 1px solid gray;box-sizing: border-box;top: 0;bottom: 0;left: 50%;z-index: -1;}#sk-container-id-3 div.sk-parallel-item {display: flex;flex-direction: column;z-index: 1;position: relative;background-color: white;}#sk-container-id-3 div.sk-parallel-item:first-child::after {align-self: flex-end;width: 50%;}#sk-container-id-3 div.sk-parallel-item:last-child::after {align-self: flex-start;width: 50%;}#sk-container-id-3 div.sk-parallel-item:only-child::after {width: 0;}#sk-container-id-3 div.sk-dashed-wrapped {border: 1px dashed gray;margin: 0 0.4em 0.5em 0.4em;box-sizing: border-box;padding-bottom: 0.4em;background-color: white;}#sk-container-id-3 div.sk-label label {font-family: monospace;font-weight: bold;display: inline-block;line-height: 1.2em;}#sk-container-id-3 div.sk-label-container {text-align: center;}#sk-container-id-3 div.sk-container {/* jupyter's `normalize.less` sets `[hidden] { display: none; }` but bootstrap.min.css set `[hidden] { display: none !important; }` so we also need the `!important` here to be able to override the default hidden behavior on the sphinx rendered scikit-learn.org. See: https://github.com/scikit-learn/scikit-learn/issues/21755 */display: inline-block !important;position: relative;}#sk-container-id-3 div.sk-text-repr-fallback {display: none;}</style><div id=\"sk-container-id-3\" class=\"sk-top-container\"><div class=\"sk-text-repr-fallback\"><pre>RandomForestClassifier()</pre><b>In a Jupyter environment, please rerun this cell to show the HTML representation or trust the notebook. <br />On GitHub, the HTML representation is unable to render, please try loading this page with nbviewer.org.</b></div><div class=\"sk-container\" hidden><div class=\"sk-item\"><div class=\"sk-estimator sk-toggleable\"><input class=\"sk-toggleable__control sk-hidden--visually\" id=\"sk-estimator-id-3\" type=\"checkbox\" checked><label for=\"sk-estimator-id-3\" class=\"sk-toggleable__label sk-toggleable__label-arrow\">RandomForestClassifier</label><div class=\"sk-toggleable__content\"><pre>RandomForestClassifier()</pre></div></div></div></div></div>"
      ],
      "text/plain": [
       "RandomForestClassifier()"
      ]
     },
     "execution_count": 63,
     "metadata": {},
     "output_type": "execute_result"
    }
   ],
   "source": [
    "rf.fit(X_train_2d,ytrain)"
   ]
  },
  {
   "cell_type": "code",
   "execution_count": 64,
   "id": "3a1a4f8b-be7e-481f-9732-ce52efa62b10",
   "metadata": {},
   "outputs": [],
   "source": [
    "y_pred = rf.predict(X_test_2d)"
   ]
  },
  {
   "cell_type": "code",
   "execution_count": 65,
   "id": "924bf501-a5f4-461f-9484-7b896a6cc785",
   "metadata": {},
   "outputs": [
    {
     "name": "stdout",
     "output_type": "stream",
     "text": [
      "              precision    recall  f1-score   support\n",
      "\n",
      "           0       1.00      1.00      1.00     24053\n",
      "           1       1.00      1.00      1.00     24015\n",
      "           2       1.00      1.00      1.00     23932\n",
      "\n",
      "    accuracy                           1.00     72000\n",
      "   macro avg       1.00      1.00      1.00     72000\n",
      "weighted avg       1.00      1.00      1.00     72000\n",
      "\n"
     ]
    }
   ],
   "source": [
    "print(classification_report(ytest,y_pred))"
   ]
  },
  {
   "cell_type": "code",
   "execution_count": 66,
   "id": "8d5d4ea4-447c-4df9-815c-23f4a14aa61c",
   "metadata": {},
   "outputs": [],
   "source": [
    "scaler = MinMaxScaler()\n",
    "X_train = scaler.fit_transform(X_train_2d)\n",
    "X_test = scaler.fit_transform(X_test_2d)"
   ]
  },
  {
   "cell_type": "code",
   "execution_count": 67,
   "id": "c9105969-f073-4891-a996-fc487dd23598",
   "metadata": {},
   "outputs": [
    {
     "data": {
      "text/html": [
       "<style>#sk-container-id-4 {color: black;}#sk-container-id-4 pre{padding: 0;}#sk-container-id-4 div.sk-toggleable {background-color: white;}#sk-container-id-4 label.sk-toggleable__label {cursor: pointer;display: block;width: 100%;margin-bottom: 0;padding: 0.3em;box-sizing: border-box;text-align: center;}#sk-container-id-4 label.sk-toggleable__label-arrow:before {content: \"▸\";float: left;margin-right: 0.25em;color: #696969;}#sk-container-id-4 label.sk-toggleable__label-arrow:hover:before {color: black;}#sk-container-id-4 div.sk-estimator:hover label.sk-toggleable__label-arrow:before {color: black;}#sk-container-id-4 div.sk-toggleable__content {max-height: 0;max-width: 0;overflow: hidden;text-align: left;background-color: #f0f8ff;}#sk-container-id-4 div.sk-toggleable__content pre {margin: 0.2em;color: black;border-radius: 0.25em;background-color: #f0f8ff;}#sk-container-id-4 input.sk-toggleable__control:checked~div.sk-toggleable__content {max-height: 200px;max-width: 100%;overflow: auto;}#sk-container-id-4 input.sk-toggleable__control:checked~label.sk-toggleable__label-arrow:before {content: \"▾\";}#sk-container-id-4 div.sk-estimator input.sk-toggleable__control:checked~label.sk-toggleable__label {background-color: #d4ebff;}#sk-container-id-4 div.sk-label input.sk-toggleable__control:checked~label.sk-toggleable__label {background-color: #d4ebff;}#sk-container-id-4 input.sk-hidden--visually {border: 0;clip: rect(1px 1px 1px 1px);clip: rect(1px, 1px, 1px, 1px);height: 1px;margin: -1px;overflow: hidden;padding: 0;position: absolute;width: 1px;}#sk-container-id-4 div.sk-estimator {font-family: monospace;background-color: #f0f8ff;border: 1px dotted black;border-radius: 0.25em;box-sizing: border-box;margin-bottom: 0.5em;}#sk-container-id-4 div.sk-estimator:hover {background-color: #d4ebff;}#sk-container-id-4 div.sk-parallel-item::after {content: \"\";width: 100%;border-bottom: 1px solid gray;flex-grow: 1;}#sk-container-id-4 div.sk-label:hover label.sk-toggleable__label {background-color: #d4ebff;}#sk-container-id-4 div.sk-serial::before {content: \"\";position: absolute;border-left: 1px solid gray;box-sizing: border-box;top: 0;bottom: 0;left: 50%;z-index: 0;}#sk-container-id-4 div.sk-serial {display: flex;flex-direction: column;align-items: center;background-color: white;padding-right: 0.2em;padding-left: 0.2em;position: relative;}#sk-container-id-4 div.sk-item {position: relative;z-index: 1;}#sk-container-id-4 div.sk-parallel {display: flex;align-items: stretch;justify-content: center;background-color: white;position: relative;}#sk-container-id-4 div.sk-item::before, #sk-container-id-4 div.sk-parallel-item::before {content: \"\";position: absolute;border-left: 1px solid gray;box-sizing: border-box;top: 0;bottom: 0;left: 50%;z-index: -1;}#sk-container-id-4 div.sk-parallel-item {display: flex;flex-direction: column;z-index: 1;position: relative;background-color: white;}#sk-container-id-4 div.sk-parallel-item:first-child::after {align-self: flex-end;width: 50%;}#sk-container-id-4 div.sk-parallel-item:last-child::after {align-self: flex-start;width: 50%;}#sk-container-id-4 div.sk-parallel-item:only-child::after {width: 0;}#sk-container-id-4 div.sk-dashed-wrapped {border: 1px dashed gray;margin: 0 0.4em 0.5em 0.4em;box-sizing: border-box;padding-bottom: 0.4em;background-color: white;}#sk-container-id-4 div.sk-label label {font-family: monospace;font-weight: bold;display: inline-block;line-height: 1.2em;}#sk-container-id-4 div.sk-label-container {text-align: center;}#sk-container-id-4 div.sk-container {/* jupyter's `normalize.less` sets `[hidden] { display: none; }` but bootstrap.min.css set `[hidden] { display: none !important; }` so we also need the `!important` here to be able to override the default hidden behavior on the sphinx rendered scikit-learn.org. See: https://github.com/scikit-learn/scikit-learn/issues/21755 */display: inline-block !important;position: relative;}#sk-container-id-4 div.sk-text-repr-fallback {display: none;}</style><div id=\"sk-container-id-4\" class=\"sk-top-container\"><div class=\"sk-text-repr-fallback\"><pre>MultinomialNB()</pre><b>In a Jupyter environment, please rerun this cell to show the HTML representation or trust the notebook. <br />On GitHub, the HTML representation is unable to render, please try loading this page with nbviewer.org.</b></div><div class=\"sk-container\" hidden><div class=\"sk-item\"><div class=\"sk-estimator sk-toggleable\"><input class=\"sk-toggleable__control sk-hidden--visually\" id=\"sk-estimator-id-4\" type=\"checkbox\" checked><label for=\"sk-estimator-id-4\" class=\"sk-toggleable__label sk-toggleable__label-arrow\">MultinomialNB</label><div class=\"sk-toggleable__content\"><pre>MultinomialNB()</pre></div></div></div></div></div>"
      ],
      "text/plain": [
       "MultinomialNB()"
      ]
     },
     "execution_count": 67,
     "metadata": {},
     "output_type": "execute_result"
    }
   ],
   "source": [
    "clf = MultinomialNB()\n",
    "clf.fit(X_train,ytrain)"
   ]
  },
  {
   "cell_type": "code",
   "execution_count": 68,
   "id": "1efece79-1847-464d-8e33-8e650b26e241",
   "metadata": {},
   "outputs": [],
   "source": [
    "y_pred = clf.predict(X_test)"
   ]
  },
  {
   "cell_type": "code",
   "execution_count": 69,
   "id": "2b8121f7-1ba3-4e90-bfd8-30b0b7d8402c",
   "metadata": {},
   "outputs": [
    {
     "name": "stdout",
     "output_type": "stream",
     "text": [
      "              precision    recall  f1-score   support\n",
      "\n",
      "           0       1.00      1.00      1.00     24053\n",
      "           1       1.00      0.96      0.98     24015\n",
      "           2       0.96      1.00      0.98     23932\n",
      "\n",
      "    accuracy                           0.99     72000\n",
      "   macro avg       0.99      0.99      0.99     72000\n",
      "weighted avg       0.99      0.99      0.99     72000\n",
      "\n"
     ]
    }
   ],
   "source": [
    "print(classification_report(ytest,y_pred))"
   ]
  },
  {
   "cell_type": "code",
   "execution_count": 70,
   "id": "694d4290-feb4-4e03-b91e-7d6773d934b2",
   "metadata": {},
   "outputs": [],
   "source": [
    "label = {\n",
    "    0:'weak',\n",
    "    1:'medium',\n",
    "    2:'hard'\n",
    "}"
   ]
  },
  {
   "cell_type": "code",
   "execution_count": 71,
   "id": "404f2d40-65c5-4ac4-ab12-0ef950960a17",
   "metadata": {},
   "outputs": [],
   "source": [
    "def prediction(model,data):\n",
    "    input = [data]\n",
    "    pred = model.predict(input)\n",
    "    return label[pred.item()]"
   ]
  },
  {
   "cell_type": "code",
   "execution_count": 72,
   "id": "604f0ab6-7120-4382-b3a2-6b76846ce757",
   "metadata": {},
   "outputs": [
    {
     "name": "stdout",
     "output_type": "stream",
     "text": [
      "\u001c",
      "?*5ÚÞäl\n"
     ]
    }
   ],
   "source": [
    "password = random.sample(list(tokens),k=8)\n",
    "password = ''.join(password)\n",
    "print(password)\n",
    "encoded = preprocess(password)"
   ]
  },
  {
   "cell_type": "code",
   "execution_count": 73,
   "id": "197577d3-c520-446c-9c46-69074e5e31b0",
   "metadata": {},
   "outputs": [
    {
     "data": {
      "text/plain": [
       "'medium'"
      ]
     },
     "execution_count": 73,
     "metadata": {},
     "output_type": "execute_result"
    }
   ],
   "source": [
    "prediction(model=d_model,data=encoded)"
   ]
  },
  {
   "cell_type": "code",
   "execution_count": 74,
   "id": "c698acce-a32f-4ddb-ac42-6efb6c06dea4",
   "metadata": {},
   "outputs": [
    {
     "name": "stdout",
     "output_type": "stream",
     "text": [
      "amith1234\n"
     ]
    }
   ],
   "source": [
    "password = 'amith1234'\n",
    "password = ''.join(password)\n",
    "print(password)\n",
    "encoded = preprocess(password)"
   ]
  },
  {
   "cell_type": "code",
   "execution_count": 75,
   "id": "48795719-3cb4-4974-8c55-10c5bfea1792",
   "metadata": {},
   "outputs": [
    {
     "data": {
      "text/plain": [
       "'medium'"
      ]
     },
     "execution_count": 75,
     "metadata": {},
     "output_type": "execute_result"
    }
   ],
   "source": [
    "prediction(model=d_model,data=encoded)"
   ]
  },
  {
   "cell_type": "code",
   "execution_count": 76,
   "id": "f44dee2d-7c8d-4c9c-a651-6916fabdcdba",
   "metadata": {},
   "outputs": [],
   "source": [
    "def ensemble(data):\n",
    "    L = []\n",
    "    input = [data]\n",
    "    pred = d_model.predict(input)\n",
    "    L.append(pred.item())\n",
    "    pred = knn.predict(input)\n",
    "    L.append(pred.item())\n",
    "    pred = rf.predict(input)\n",
    "    L.append(pred.item())\n",
    "    pred = clf.predict(input)\n",
    "    L.append(pred.item())\n",
    "    return L\n",
    "    \n",
    "    "
   ]
  },
  {
   "cell_type": "code",
   "execution_count": 79,
   "id": "7319de0f-4a3a-43c2-b239-c929b9885b64",
   "metadata": {},
   "outputs": [
    {
     "name": "stdout",
     "output_type": "stream",
     "text": [
      "g¯é#lx%<r°\"…\u00135Ï¢d\u0011ä0\n"
     ]
    }
   ],
   "source": [
    "password = random.sample(list(tokens),k=20)\n",
    "password = ''.join(password)\n",
    "print(password)\n",
    "encoded = preprocess(password)"
   ]
  },
  {
   "cell_type": "code",
   "execution_count": 80,
   "id": "9282c745-78e3-4f99-89ba-52b1d5aef3c5",
   "metadata": {},
   "outputs": [
    {
     "name": "stdout",
     "output_type": "stream",
     "text": [
      "hard\n"
     ]
    }
   ],
   "source": [
    "result = max((Counter([x]) for x in ensemble(encoded)), key=lambda x: x.most_common(1)[0][1])\n",
    "\n",
    "# Extract the most common element and its count\n",
    "most_common, count = result.most_common(1)[0]\n",
    "print(label[most_common])"
   ]
  },
  {
   "cell_type": "code",
   "execution_count": null,
   "id": "6d478a52-3209-432d-8ded-272d7a039484",
   "metadata": {},
   "outputs": [],
   "source": []
  },
  {
   "cell_type": "code",
   "execution_count": null,
   "id": "a03192a0-1b9a-418d-9251-35322eaf70c6",
   "metadata": {},
   "outputs": [],
   "source": []
  }
 ],
 "metadata": {
  "kernelspec": {
   "display_name": "Python 3 (ipykernel)",
   "language": "python",
   "name": "python3"
  },
  "language_info": {
   "codemirror_mode": {
    "name": "ipython",
    "version": 3
   },
   "file_extension": ".py",
   "mimetype": "text/x-python",
   "name": "python",
   "nbconvert_exporter": "python",
   "pygments_lexer": "ipython3",
   "version": "3.11.4"
  }
 },
 "nbformat": 4,
 "nbformat_minor": 5
}
